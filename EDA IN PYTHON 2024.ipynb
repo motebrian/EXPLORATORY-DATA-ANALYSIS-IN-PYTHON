{
 "cells": [
  {
   "cell_type": "code",
   "execution_count": 14,
   "id": "a62ff272",
   "metadata": {},
   "outputs": [],
   "source": [
    "#Importing relevant packages\n",
    "import pandas as pd\n",
    "import numpy as np\n",
    "import seaborn as sns\n",
    "import matplotlib.pyplot as plt"
   ]
  },
  {
   "cell_type": "code",
   "execution_count": 15,
   "id": "3b7675f4",
   "metadata": {},
   "outputs": [
    {
     "data": {
      "text/html": [
       "<div>\n",
       "<style scoped>\n",
       "    .dataframe tbody tr th:only-of-type {\n",
       "        vertical-align: middle;\n",
       "    }\n",
       "\n",
       "    .dataframe tbody tr th {\n",
       "        vertical-align: top;\n",
       "    }\n",
       "\n",
       "    .dataframe thead th {\n",
       "        text-align: right;\n",
       "    }\n",
       "</style>\n",
       "<table border=\"1\" class=\"dataframe\">\n",
       "  <thead>\n",
       "    <tr style=\"text-align: right;\">\n",
       "      <th></th>\n",
       "      <th>VIN (1-10)</th>\n",
       "      <th>County</th>\n",
       "      <th>City</th>\n",
       "      <th>State</th>\n",
       "      <th>Postal Code</th>\n",
       "      <th>Model Year</th>\n",
       "      <th>Make</th>\n",
       "      <th>Model</th>\n",
       "      <th>Electric Vehicle Type</th>\n",
       "      <th>Clean Alternative Fuel Vehicle (CAFV) Eligibility</th>\n",
       "      <th>Electric Range</th>\n",
       "      <th>Base MSRP</th>\n",
       "      <th>Legislative District</th>\n",
       "      <th>DOL Vehicle ID</th>\n",
       "      <th>Vehicle Location</th>\n",
       "      <th>Electric Utility</th>\n",
       "      <th>2020 Census Tract</th>\n",
       "    </tr>\n",
       "  </thead>\n",
       "  <tbody>\n",
       "    <tr>\n",
       "      <th>0</th>\n",
       "      <td>5UXKT0C59G</td>\n",
       "      <td>Yakima</td>\n",
       "      <td>Zillah</td>\n",
       "      <td>WA</td>\n",
       "      <td>98953.0</td>\n",
       "      <td>2016</td>\n",
       "      <td>BMW</td>\n",
       "      <td>X5</td>\n",
       "      <td>Plug-in Hybrid Electric Vehicle (PHEV)</td>\n",
       "      <td>Not eligible due to low battery range</td>\n",
       "      <td>14.0</td>\n",
       "      <td>0.0</td>\n",
       "      <td>15.0</td>\n",
       "      <td>206822717</td>\n",
       "      <td>POINT (-120.26317 46.40556)</td>\n",
       "      <td>PACIFICORP</td>\n",
       "      <td>5.307700e+10</td>\n",
       "    </tr>\n",
       "    <tr>\n",
       "      <th>1</th>\n",
       "      <td>5YJ3E1EA2J</td>\n",
       "      <td>Snohomish</td>\n",
       "      <td>Edmonds</td>\n",
       "      <td>WA</td>\n",
       "      <td>98020.0</td>\n",
       "      <td>2018</td>\n",
       "      <td>TESLA</td>\n",
       "      <td>MODEL 3</td>\n",
       "      <td>Battery Electric Vehicle (BEV)</td>\n",
       "      <td>Clean Alternative Fuel Vehicle Eligible</td>\n",
       "      <td>215.0</td>\n",
       "      <td>0.0</td>\n",
       "      <td>21.0</td>\n",
       "      <td>137721636</td>\n",
       "      <td>POINT (-122.37507 47.80807)</td>\n",
       "      <td>PUGET SOUND ENERGY INC</td>\n",
       "      <td>5.306105e+10</td>\n",
       "    </tr>\n",
       "    <tr>\n",
       "      <th>2</th>\n",
       "      <td>1G1RE6E4XE</td>\n",
       "      <td>Kitsap</td>\n",
       "      <td>Port Orchard</td>\n",
       "      <td>WA</td>\n",
       "      <td>98367.0</td>\n",
       "      <td>2014</td>\n",
       "      <td>CHEVROLET</td>\n",
       "      <td>VOLT</td>\n",
       "      <td>Plug-in Hybrid Electric Vehicle (PHEV)</td>\n",
       "      <td>Clean Alternative Fuel Vehicle Eligible</td>\n",
       "      <td>38.0</td>\n",
       "      <td>0.0</td>\n",
       "      <td>26.0</td>\n",
       "      <td>197718468</td>\n",
       "      <td>POINT (-122.6847073 47.50524)</td>\n",
       "      <td>PUGET SOUND ENERGY INC</td>\n",
       "      <td>5.303509e+10</td>\n",
       "    </tr>\n",
       "    <tr>\n",
       "      <th>3</th>\n",
       "      <td>2C4RC1L76M</td>\n",
       "      <td>Skagit</td>\n",
       "      <td>Bow</td>\n",
       "      <td>WA</td>\n",
       "      <td>98232.0</td>\n",
       "      <td>2021</td>\n",
       "      <td>CHRYSLER</td>\n",
       "      <td>PACIFICA</td>\n",
       "      <td>Plug-in Hybrid Electric Vehicle (PHEV)</td>\n",
       "      <td>Clean Alternative Fuel Vehicle Eligible</td>\n",
       "      <td>32.0</td>\n",
       "      <td>0.0</td>\n",
       "      <td>40.0</td>\n",
       "      <td>256274308</td>\n",
       "      <td>POINT (-122.440636 48.5613885)</td>\n",
       "      <td>PUGET SOUND ENERGY INC</td>\n",
       "      <td>5.305795e+10</td>\n",
       "    </tr>\n",
       "    <tr>\n",
       "      <th>4</th>\n",
       "      <td>5YJ3E1EA2J</td>\n",
       "      <td>Thurston</td>\n",
       "      <td>Olympia</td>\n",
       "      <td>WA</td>\n",
       "      <td>98513.0</td>\n",
       "      <td>2018</td>\n",
       "      <td>TESLA</td>\n",
       "      <td>MODEL 3</td>\n",
       "      <td>Battery Electric Vehicle (BEV)</td>\n",
       "      <td>Clean Alternative Fuel Vehicle Eligible</td>\n",
       "      <td>215.0</td>\n",
       "      <td>0.0</td>\n",
       "      <td>2.0</td>\n",
       "      <td>259176578</td>\n",
       "      <td>POINT (-122.817545 46.98876)</td>\n",
       "      <td>PUGET SOUND ENERGY INC</td>\n",
       "      <td>5.306701e+10</td>\n",
       "    </tr>\n",
       "  </tbody>\n",
       "</table>\n",
       "</div>"
      ],
      "text/plain": [
       "   VIN (1-10)     County          City State  Postal Code  Model Year  \\\n",
       "0  5UXKT0C59G     Yakima        Zillah    WA      98953.0        2016   \n",
       "1  5YJ3E1EA2J  Snohomish       Edmonds    WA      98020.0        2018   \n",
       "2  1G1RE6E4XE     Kitsap  Port Orchard    WA      98367.0        2014   \n",
       "3  2C4RC1L76M     Skagit           Bow    WA      98232.0        2021   \n",
       "4  5YJ3E1EA2J   Thurston       Olympia    WA      98513.0        2018   \n",
       "\n",
       "        Make     Model                   Electric Vehicle Type  \\\n",
       "0        BMW        X5  Plug-in Hybrid Electric Vehicle (PHEV)   \n",
       "1      TESLA   MODEL 3          Battery Electric Vehicle (BEV)   \n",
       "2  CHEVROLET      VOLT  Plug-in Hybrid Electric Vehicle (PHEV)   \n",
       "3   CHRYSLER  PACIFICA  Plug-in Hybrid Electric Vehicle (PHEV)   \n",
       "4      TESLA   MODEL 3          Battery Electric Vehicle (BEV)   \n",
       "\n",
       "  Clean Alternative Fuel Vehicle (CAFV) Eligibility  Electric Range  \\\n",
       "0             Not eligible due to low battery range            14.0   \n",
       "1           Clean Alternative Fuel Vehicle Eligible           215.0   \n",
       "2           Clean Alternative Fuel Vehicle Eligible            38.0   \n",
       "3           Clean Alternative Fuel Vehicle Eligible            32.0   \n",
       "4           Clean Alternative Fuel Vehicle Eligible           215.0   \n",
       "\n",
       "   Base MSRP  Legislative District  DOL Vehicle ID  \\\n",
       "0        0.0                  15.0       206822717   \n",
       "1        0.0                  21.0       137721636   \n",
       "2        0.0                  26.0       197718468   \n",
       "3        0.0                  40.0       256274308   \n",
       "4        0.0                   2.0       259176578   \n",
       "\n",
       "                 Vehicle Location        Electric Utility  2020 Census Tract  \n",
       "0     POINT (-120.26317 46.40556)              PACIFICORP       5.307700e+10  \n",
       "1     POINT (-122.37507 47.80807)  PUGET SOUND ENERGY INC       5.306105e+10  \n",
       "2   POINT (-122.6847073 47.50524)  PUGET SOUND ENERGY INC       5.303509e+10  \n",
       "3  POINT (-122.440636 48.5613885)  PUGET SOUND ENERGY INC       5.305795e+10  \n",
       "4    POINT (-122.817545 46.98876)  PUGET SOUND ENERGY INC       5.306701e+10  "
      ]
     },
     "execution_count": 15,
     "metadata": {},
     "output_type": "execute_result"
    }
   ],
   "source": [
    "#Importing the data\n",
    "EV = pd.read_csv(r'C:\\\\Users\\\\Brian Motee\\\\Desktop\\\\dataset\\\\Electric_Vehicle.csv')\n",
    "#Inspecting the first 5 rows of the dataset\n",
    "EV.head()"
   ]
  },
  {
   "cell_type": "code",
   "execution_count": 16,
   "id": "88ca9442",
   "metadata": {},
   "outputs": [
    {
     "name": "stdout",
     "output_type": "stream",
     "text": [
      "<class 'pandas.core.frame.DataFrame'>\n",
      "RangeIndex: 173533 entries, 0 to 173532\n",
      "Data columns (total 17 columns):\n",
      " #   Column                                             Non-Null Count   Dtype  \n",
      "---  ------                                             --------------   -----  \n",
      " 0   VIN (1-10)                                         173533 non-null  object \n",
      " 1   County                                             173528 non-null  object \n",
      " 2   City                                               173528 non-null  object \n",
      " 3   State                                              173533 non-null  object \n",
      " 4   Postal Code                                        173528 non-null  float64\n",
      " 5   Model Year                                         173533 non-null  int64  \n",
      " 6   Make                                               173533 non-null  object \n",
      " 7   Model                                              173533 non-null  object \n",
      " 8   Electric Vehicle Type                              173533 non-null  object \n",
      " 9   Clean Alternative Fuel Vehicle (CAFV) Eligibility  173533 non-null  object \n",
      " 10  Electric Range                                     173532 non-null  float64\n",
      " 11  Base MSRP                                          173532 non-null  float64\n",
      " 12  Legislative District                               173157 non-null  float64\n",
      " 13  DOL Vehicle ID                                     173533 non-null  int64  \n",
      " 14  Vehicle Location                                   173523 non-null  object \n",
      " 15  Electric Utility                                   173528 non-null  object \n",
      " 16  2020 Census Tract                                  173528 non-null  float64\n",
      "dtypes: float64(5), int64(2), object(10)\n",
      "memory usage: 22.5+ MB\n"
     ]
    }
   ],
   "source": [
    "#Inpecting the data structure\n",
    "EV.info()"
   ]
  },
  {
   "cell_type": "code",
   "execution_count": 17,
   "id": "b8ecf813",
   "metadata": {},
   "outputs": [],
   "source": [
    "#Renaming Variables\n",
    "EV.rename(columns={'VIN (1-10)':'Vin','Postal Code':'Postal_Code','Model Year':'Model_Year','Electric Vehicle Type':'Electric_Vehicle_Type','Clean Alternative Fuel Vehicle (CAFV) Eligibility':'Clean_Alternative_Fuel_Vehicle_Eligibility','Electric Range':'Electric_Range','Base MSRP':'Base_MSRP','Legislative District':'Legislative_District','DOL Vehicle ID':'DOL_Vehicle_ID','Vehicle Location':'Vehicle_Location','Electric Utility':'Electric_Utility','2020 Census Tract':'2020_Census_Tract'}, inplace=True)\n"
   ]
  },
  {
   "cell_type": "code",
   "execution_count": 18,
   "id": "9cbbfea1",
   "metadata": {},
   "outputs": [
    {
     "name": "stdout",
     "output_type": "stream",
     "text": [
      "<class 'pandas.core.frame.DataFrame'>\n",
      "RangeIndex: 173533 entries, 0 to 173532\n",
      "Data columns (total 17 columns):\n",
      " #   Column                                      Non-Null Count   Dtype  \n",
      "---  ------                                      --------------   -----  \n",
      " 0   Vin                                         173533 non-null  object \n",
      " 1   County                                      173528 non-null  object \n",
      " 2   City                                        173528 non-null  object \n",
      " 3   State                                       173533 non-null  object \n",
      " 4   Postal_Code                                 173528 non-null  float64\n",
      " 5   Model_Year                                  173533 non-null  int64  \n",
      " 6   Make                                        173533 non-null  object \n",
      " 7   Model                                       173533 non-null  object \n",
      " 8   Electric_Vehicle_Type                       173533 non-null  object \n",
      " 9   Clean_Alternative_Fuel_Vehicle_Eligibility  173533 non-null  object \n",
      " 10  Electric_Range                              173532 non-null  float64\n",
      " 11  Base_MSRP                                   173532 non-null  float64\n",
      " 12  Legislative_District                        173157 non-null  float64\n",
      " 13  DOL_Vehicle_ID                              173533 non-null  int64  \n",
      " 14  Vehicle_Location                            173523 non-null  object \n",
      " 15  Electric_Utility                            173528 non-null  object \n",
      " 16  2020_Census_Tract                           173528 non-null  float64\n",
      "dtypes: float64(5), int64(2), object(10)\n",
      "memory usage: 22.5+ MB\n"
     ]
    }
   ],
   "source": [
    "#Inspecting if changes reflect\n",
    "EV.info()"
   ]
  },
  {
   "cell_type": "code",
   "execution_count": 19,
   "id": "627a77cb",
   "metadata": {},
   "outputs": [
    {
     "name": "stdout",
     "output_type": "stream",
     "text": [
      "<class 'pandas.core.frame.DataFrame'>\n",
      "RangeIndex: 173533 entries, 0 to 173532\n",
      "Data columns (total 17 columns):\n",
      " #   Column                                      Non-Null Count   Dtype  \n",
      "---  ------                                      --------------   -----  \n",
      " 0   Vin                                         173533 non-null  string \n",
      " 1   County                                      173528 non-null  string \n",
      " 2   City                                        173528 non-null  string \n",
      " 3   State                                       173533 non-null  string \n",
      " 4   Postal_Code                                 173528 non-null  float64\n",
      " 5   Model_Year                                  173533 non-null  int64  \n",
      " 6   Make                                        173533 non-null  string \n",
      " 7   Model                                       173533 non-null  string \n",
      " 8   Electric_Vehicle_Type                       173533 non-null  string \n",
      " 9   Clean_Alternative_Fuel_Vehicle_Eligibility  173533 non-null  object \n",
      " 10  Electric_Range                              173532 non-null  float64\n",
      " 11  Base_MSRP                                   173532 non-null  float64\n",
      " 12  Legislative_District                        173157 non-null  float64\n",
      " 13  DOL_Vehicle_ID                              173533 non-null  int64  \n",
      " 14  Vehicle_Location                            173523 non-null  object \n",
      " 15  Electric_Utility                            173528 non-null  string \n",
      " 16  2020_Census_Tract                           173528 non-null  float64\n",
      "dtypes: float64(5), int64(2), object(2), string(8)\n",
      "memory usage: 22.5+ MB\n"
     ]
    }
   ],
   "source": [
    "#Changing Data types\n",
    "EV = EV.astype({'Vin':'string','County':'string','City':'string','State':'string','Make':'string','Model':'string','Electric_Vehicle_Type':'string','Electric_Utility':'string'})\n",
    "#Inspecting the new data types\n",
    "EV.info()"
   ]
  },
  {
   "cell_type": "code",
   "execution_count": 20,
   "id": "a2624f30",
   "metadata": {},
   "outputs": [
    {
     "data": {
      "text/plain": [
       "array([ 14., 215.,  38.,  32.,  23., 239., 220., 153.,  19., 107.,  33.,\n",
       "       291., 249.,  73.,  72., 238.,   0.,  21., 208.,  84.,  26., 259.,\n",
       "       150.,  75., 210.,  25.,  82., 151., 270., 204.,  30., 293., 125.,\n",
       "        35.,  87., 200.,  22., 308., 266., 234.,  47.,  83.,  81.,  97.,\n",
       "        13., 149.,  53.,  37., 322.,  10., 330.,  58.,  18., 203.,   6.,\n",
       "       289., 100.,  42.,  16.,  17.,  76.,  62.,  20., 126.,  93.,  29.,\n",
       "        15., 233.,  39., 258.,  28., 111.,  27.,   8., 170., 192., 218.,\n",
       "       110.,  68.,  24.,  34., 222.,  41.,  12., 124., 114., 265.,  11.,\n",
       "       337.,  40.,  48.,  31., 103., 245.,  74.,  59.,   9.,  56.,  57.,\n",
       "        36.,  95.,  51.,  nan])"
      ]
     },
     "execution_count": 20,
     "metadata": {},
     "output_type": "execute_result"
    }
   ],
   "source": [
    "#Inspecting the electric range variable\n",
    "EV.Electric_Range.unique()"
   ]
  },
  {
   "cell_type": "markdown",
   "id": "b96a854f",
   "metadata": {},
   "source": [
    "Electric_Range is the distance a vehicle can travel purely on electric charge. It is evident that the variable has zeros(0) and missing data.This is my main variable, I want it to be complete hence I will drop the zeros."
   ]
  },
  {
   "cell_type": "code",
   "execution_count": 22,
   "id": "d5b41e80",
   "metadata": {},
   "outputs": [
    {
     "data": {
      "text/plain": [
       "Vin                                             0\n",
       "County                                          5\n",
       "City                                            5\n",
       "State                                           0\n",
       "Postal_Code                                     5\n",
       "Model_Year                                      0\n",
       "Make                                            0\n",
       "Model                                           0\n",
       "Electric_Vehicle_Type                           0\n",
       "Clean_Alternative_Fuel_Vehicle_Eligibility      0\n",
       "Electric_Range                                  1\n",
       "Base_MSRP                                       1\n",
       "Legislative_District                          226\n",
       "DOL_Vehicle_ID                                  0\n",
       "Vehicle_Location                                9\n",
       "Electric_Utility                                5\n",
       "2020_Census_Tract                               5\n",
       "dtype: int64"
      ]
     },
     "execution_count": 22,
     "metadata": {},
     "output_type": "execute_result"
    }
   ],
   "source": [
    "#Filtering out rows in the Electric_Range variable with values equal to 0\n",
    "EV = EV[EV['Electric_Range']!=0]\n",
    "#inspecting missing values per variable\n",
    "EV.isna().sum()\n"
   ]
  },
  {
   "cell_type": "markdown",
   "id": "596dff39",
   "metadata": {},
   "source": [
    "# UNIVARIATE STATISTICS"
   ]
  },
  {
   "cell_type": "code",
   "execution_count": 23,
   "id": "0ce8fabc",
   "metadata": {},
   "outputs": [
    {
     "name": "stdout",
     "output_type": "stream",
     "text": [
      "The average electric range is 122.4639563533967\n",
      "The median electric range is 84.0\n",
      "The mode electric range is 0    215.0\n",
      "Name: Electric_Range, dtype: float64\n"
     ]
    }
   ],
   "source": [
    "#Display measures of central tendancy for Electric_Range\n",
    "print('The average electric range is ' + str(EV.Electric_Range.mean()))\n",
    "print('The median electric range is ' + str(EV.Electric_Range.median()))\n",
    "print('The mode electric range is ' + str(EV.Electric_Range.mode()))"
   ]
  },
  {
   "cell_type": "markdown",
   "id": "6f620bf6",
   "metadata": {},
   "source": [
    "The difference between the mean and the median is too big, suggesting the variable Electric_Range has outliers and possibly skewed.I will visualize the data to confirm my suspicion."
   ]
  },
  {
   "cell_type": "code",
   "execution_count": 24,
   "id": "fa405f19",
   "metadata": {},
   "outputs": [
    {
     "data": {
      "image/png": "[encoded data removed]",
      "text/plain": [
       "<Figure size 640x480 with 1 Axes>"
      ]
     },
     "metadata": {},
     "output_type": "display_data"
    },
    {
     "data": {
      "text/plain": [
       "<Figure size 640x480 with 0 Axes>"
      ]
     },
     "metadata": {},
     "output_type": "display_data"
    }
   ],
   "source": [
    "#Checking the distribution of Electric_Range using a histogram\n",
    "sns.histplot(x='Electric_Range',data=EV)\n",
    "plt.show()\n",
    "plt.clf()"
   ]
  },
  {
   "cell_type": "markdown",
   "id": "a045f665",
   "metadata": {},
   "source": [
    "That means I cannot rely on the mean When I am analyzing the data as the mean is affected by the presence of outliers. Therefore to evaluate the spread of data, I will use interquartile range instead of standard deviation"
   ]
  },
  {
   "cell_type": "code",
   "execution_count": 25,
   "id": "2e7f0005",
   "metadata": {},
   "outputs": [
    {
     "data": {
      "text/plain": [
       "183.0"
      ]
     },
     "execution_count": 25,
     "metadata": {},
     "output_type": "execute_result"
    }
   ],
   "source": [
    "#Describing the variability of Electric_Range\n",
    "EV.Electric_Range.quantile(0.75)-EV.Electric_Range.quantile(0.25)"
   ]
  },
  {
   "cell_type": "markdown",
   "id": "87102121",
   "metadata": {},
   "source": [
    "An interquartile range of 183.0 means that the middle 50% of the data values in the dataset span a range of 183.0 units. This suggests that the spread of the data values within this middle 50% is relatively large."
   ]
  },
  {
   "cell_type": "markdown",
   "id": "9171ab5f",
   "metadata": {},
   "source": [
    "# #  Categorical variable "
   ]
  },
  {
   "cell_type": "code",
   "execution_count": 26,
   "id": "cd91768f",
   "metadata": {},
   "outputs": [
    {
     "data": {
      "text/plain": [
       "Make\n",
       "TESLA        0.300431\n",
       "NISSAN       0.127395\n",
       "CHEVROLET    0.109573\n",
       "TOYOTA       0.068074\n",
       "BMW          0.065481\n",
       "JEEP         0.050956\n",
       "FORD         0.045946\n",
       "KIA          0.044737\n",
       "CHRYSLER     0.034706\n",
       "VOLVO        0.031291\n",
       "Name: proportion, dtype: Float64"
      ]
     },
     "execution_count": 26,
     "metadata": {},
     "output_type": "execute_result"
    }
   ],
   "source": [
    "#Getting the top 10 Electric Vehicles manufacturers\n",
    "EV.Make.value_counts(normalize=True).head(10)"
   ]
  },
  {
   "cell_type": "markdown",
   "id": "d333a867",
   "metadata": {},
   "source": [
    "30% of the electric vehicles in this dataset are from manufactured by Tesla, followed by Nissan 13% and Chevrolet 11%."
   ]
  },
  {
   "cell_type": "code",
   "execution_count": 27,
   "id": "d08d2d25",
   "metadata": {},
   "outputs": [
    {
     "data": {
      "text/plain": [
       "Electric_Vehicle_Type\n",
       "Battery Electric Vehicle (BEV)            0.555138\n",
       "Plug-in Hybrid Electric Vehicle (PHEV)    0.444862\n",
       "Name: proportion, dtype: Float64"
      ]
     },
     "execution_count": 27,
     "metadata": {},
     "output_type": "execute_result"
    }
   ],
   "source": [
    "#Proportion of Electric vehicles by electric vehicle type\n",
    "EV.Electric_Vehicle_Type.value_counts(normalize=True)"
   ]
  },
  {
   "cell_type": "markdown",
   "id": "5dd06a6f",
   "metadata": {},
   "source": [
    "More than half the Electric Vehicles(56%) are Battery Electric Vehicle(BEV)."
   ]
  },
  {
   "cell_type": "markdown",
   "id": "30e743c0",
   "metadata": {},
   "source": [
    "# BIVARIATE STATISTICS.\n",
    "Electric_Range describes how far a vehicle can travel purely on electric charge. I will examine the association between  top two manufacturers and evaluate Electric Range, and also the association between Electric_Vehicle_Type and Electric_Range"
   ]
  },
  {
   "cell_type": "code",
   "execution_count": 30,
   "id": "8ca40d52",
   "metadata": {},
   "outputs": [
    {
     "name": "stdout",
     "output_type": "stream",
     "text": [
      "This is Tesla's average Electric Range: 240.81777708349605\n",
      "This is Nissan's average Electric Range: 104.23586295818751\n",
      "This is Chevrolet's average Electric Range: 136.74590427240605\n",
      "This is Toyota's average Electric Range: 29.017580144777664\n",
      "This is BMW's average Electric Range: 46.92886579466045\n",
      "This is Jeep's average Electric Range: 22.380612479852637\n",
      "This is Ford's average Electric Range: 25.31996935648621\n",
      "This is Kia's average Electric Range: 87.08943089430895\n",
      "This is Chrysler's average Electric Range: 32.21399594320487\n",
      "This is Volvo's average Electric Range: 24.388076490438696\n"
     ]
    }
   ],
   "source": [
    "#Getting data for Tesla and Nissan\n",
    "Tesla_EV = EV.Electric_Range[EV.Make=='TESLA']\n",
    "Nissan_EV = EV.Electric_Range[EV.Make=='NISSAN']\n",
    "Chevrolet_EV = EV.Electric_Range[EV.Make=='CHEVROLET']\n",
    "Toyota_EV = EV.Electric_Range[EV.Make=='TOYOTA']\n",
    "BMW_EV = EV.Electric_Range[EV.Make=='BMW']\n",
    "Jeep_EV = EV.Electric_Range[EV.Make=='JEEP']\n",
    "Ford_EV = EV.Electric_Range[EV.Make=='FORD']\n",
    "Kia_EV = EV.Electric_Range[EV.Make=='KIA']\n",
    "Chrysler_EV = EV.Electric_Range[EV.Make=='CHRYSLER']\n",
    "Volvo_EV = EV.Electric_Range[EV.Make=='VOLVO']\n",
    "#Getting the means for Tesla and Nissan\n",
    "Mean_Tesla = np.mean(Tesla_EV)\n",
    "Mean_Nissan = np.mean(Nissan_EV)\n",
    "mean_Chevrolet = np.mean(Chevrolet_EV)\n",
    "mean_Toyota = np.mean(Toyota_EV)\n",
    "mean_BMW = np.mean(BMW_EV)\n",
    "mean_Jeep = np.mean(Jeep_EV)\n",
    "mean_Ford = np.mean(Ford_EV)\n",
    "mean_Kia = np.mean(Kia_EV)\n",
    "mean_chrysler = np.mean(Chrysler_EV)\n",
    "mean_Volvo = np.mean(Volvo_EV)\n",
    "#Printing the means\n",
    "print(\"This is Tesla's average Electric Range: \" + str(Mean_Tesla))\n",
    "print(\"This is Nissan's average Electric Range: \" + str(Mean_Nissan))\n",
    "print(\"This is Chevrolet's average Electric Range: \" + str(mean_Chevrolet))\n",
    "print(\"This is Toyota's average Electric Range: \" + str(mean_Toyota))\n",
    "print(\"This is BMW's average Electric Range: \" + str(mean_BMW))\n",
    "print(\"This is Jeep's average Electric Range: \" + str(mean_Jeep))\n",
    "print(\"This is Ford's average Electric Range: \" + str(mean_Ford))\n",
    "print(\"This is Kia's average Electric Range: \" + str(mean_Kia))\n",
    "print(\"This is Chrysler's average Electric Range: \" + str(mean_chrysler))\n",
    "print(\"This is Volvo's average Electric Range: \" + str(mean_Volvo))\n"
   ]
  },
  {
   "cell_type": "markdown",
   "id": "93c964cb",
   "metadata": {},
   "source": [
    "# ## Interpretation\n",
    "The huge difference in the means suggest there is an association between electric ranges and the manufacturers as it varies depending on the manufacturer. for instance Tesla has more than twice electric range of Nissan"
   ]
  },
  {
   "cell_type": "code",
   "execution_count": 33,
   "id": "c9344b66",
   "metadata": {},
   "outputs": [
    {
     "name": "stdout",
     "output_type": "stream",
     "text": [
      "The average BEV Electric range is 195.93080418471942\n",
      "The average PHEV Electric range is 30.78298826322036\n"
     ]
    }
   ],
   "source": [
    "#Evaluating the association between Electric vehicle type and electric range\n",
    "BEV = EV.Electric_Range[EV.Electric_Vehicle_Type =='Battery Electric Vehicle (BEV)']\n",
    "PHEV = EV.Electric_Range[EV.Electric_Vehicle_Type =='Plug-in Hybrid Electric Vehicle (PHEV)']\n",
    "#Getting the means\n",
    "BEV_Mean = np.mean(BEV)\n",
    "PHEV_Mean = np.mean(PHEV)\n",
    "#Printing the means\n",
    "print(\"The average BEV Electric range is \" + str(BEV_Mean))\n",
    "print(\"The average PHEV Electric range is \" + str(PHEV_Mean))"
   ]
  },
  {
   "cell_type": "markdown",
   "id": "4a790b2d",
   "metadata": {},
   "source": [
    "The BEV electric vehicle travels more than 6 times further than the PHEV electric vehicle"
   ]
  },
  {
   "cell_type": "code",
   "execution_count": 35,
   "id": "5c09ec04",
   "metadata": {},
   "outputs": [
    {
     "data": {
      "image/png": "[encoded data removed]",
      "text/plain": [
       "<Figure size 640x480 with 1 Axes>"
      ]
     },
     "metadata": {},
     "output_type": "display_data"
    }
   ],
   "source": [
    "#Illustrating the associations with an overlapping histogram\n",
    "plt.hist(BEV, color='blue',label='Battery Electric Vehicle (BEV)',density=True,alpha=0.5)\n",
    "plt.hist(PHEV, color='red',label='Plug-in Hybrid Electric Vehicle (PHEV)',density=True,alpha=0.5)\n",
    "plt.legend()\n",
    "plt.show()"
   ]
  },
  {
   "cell_type": "markdown",
   "id": "b59a3845",
   "metadata": {},
   "source": [
    "The overlapping histogram suggests that there is a strong association between the electric vehicle type and Electric Range"
   ]
  },
  {
   "cell_type": "code",
   "execution_count": null,
   "id": "c69d3fcb",
   "metadata": {},
   "outputs": [],
   "source": []
  }
 ],
 "metadata": {
  "kernelspec": {
   "display_name": "Python 3 (ipykernel)",
   "language": "python",
   "name": "python3"
  },
  "language_info": {
   "codemirror_mode": {
    "name": "ipython",
    "version": 3
   },
   "file_extension": ".py",
   "mimetype": "text/x-python",
   "name": "python",
   "nbconvert_exporter": "python",
   "pygments_lexer": "ipython3",
   "version": "3.11.5"
  }
 },
 "nbformat": 4,
 "nbformat_minor": 5
}
